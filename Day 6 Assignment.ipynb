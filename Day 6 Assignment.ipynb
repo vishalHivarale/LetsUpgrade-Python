{
 "cells": [
  {
   "cell_type": "markdown",
   "metadata": {},
   "source": [
    "# Assignment 6 :-\n",
    "- convert to dictionary in one line code using list comprehension(without using zip method) #list1:[1,2,3,4,5,6,7,8] #list2:[\"a\",\"b\",\"c\",\"d\",\"e\"]"
   ]
  },
  {
   "cell_type": "code",
   "execution_count": 15,
   "metadata": {},
   "outputs": [
    {
     "name": "stdout",
     "output_type": "stream",
     "text": [
      "original key list is:['a', 'b', 'c', 'd', 'e']\n",
      "original value list is:[1, 2, 3, 4, 5, 6, 7, 8]\n",
      "dic is:{'a': 1, 'b': 2, 'c': 3, 'd': 4, 'e': 5}\n"
     ]
    }
   ],
   "source": [
    "#list2 as keys\n",
    "#list1 as values\n",
    "test_keys=[\"a\",\"b\",\"c\",\"d\",\"e\",]\n",
    "test_values=[1,2,3,4,5,6,7,8]\n",
    "\n",
    "print(\"original key list is:\"+str(test_keys))\n",
    "print(\"original value list is:\"+str(test_values)) \n",
    "\n",
    "res={}\n",
    "for key in test_keys:\n",
    "    for value in test_values:\n",
    "        res[key]=value\n",
    "        test_values.remove(value)\n",
    "        break\n",
    "        \n",
    "print(\"dic is:\"+str(res))        "
   ]
  },
  {
   "cell_type": "code",
   "execution_count": null,
   "metadata": {},
   "outputs": [],
   "source": []
  }
 ],
 "metadata": {
  "kernelspec": {
   "display_name": "Python 3",
   "language": "python",
   "name": "python3"
  },
  "language_info": {
   "codemirror_mode": {
    "name": "ipython",
    "version": 3
   },
   "file_extension": ".py",
   "mimetype": "text/x-python",
   "name": "python",
   "nbconvert_exporter": "python",
   "pygments_lexer": "ipython3",
   "version": "3.7.6"
  }
 },
 "nbformat": 4,
 "nbformat_minor": 4
}
