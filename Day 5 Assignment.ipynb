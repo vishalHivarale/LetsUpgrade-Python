{
 "cells": [
  {
   "cell_type": "markdown",
   "metadata": {},
   "source": [
    "# Assignment 5-a):  Sort increasing order but all zero should be at right hand side "
   ]
  },
  {
   "cell_type": "code",
   "execution_count": 50,
   "metadata": {},
   "outputs": [],
   "source": [
    "#[0,1,2,10,4,1,0,56,2,0,1,3,0,56,0,4]\n",
    "\n",
    "def push(arr,n):        # User defined function\n",
    "    cnt=0\n",
    "    \n",
    "    for i in range(n):   \n",
    "        if arr[i]!=0:   # For Non zero values\n",
    "            arr[cnt]=arr[i]\n",
    "            cnt+=1\n",
    "            \n",
    "            \n",
    "    while cnt<n:\n",
    "        arr[cnt]=0      # For Zeros\n",
    "        cnt+=1\n",
    "    "
   ]
  },
  {
   "cell_type": "code",
   "execution_count": 52,
   "metadata": {},
   "outputs": [
    {
     "name": "stdout",
     "output_type": "stream",
     "text": [
      "array\n",
      "[1, 1, 1, 2, 2, 3, 4, 4, 10, 56, 56, 0, 0, 0, 0, 0]\n"
     ]
    }
   ],
   "source": [
    "arr=[0,1,2,10,4,1,0,56,2,0,1,3,0,56,0,4]\n",
    "arr.sort()\n",
    "n=len(arr)\n",
    "push(arr,n)    #Calling of push function\n",
    "print(\"array\")\n",
    "print(arr)"
   ]
  },
  {
   "cell_type": "markdown",
   "metadata": {},
   "source": [
    "# Assignment 5- b):Merge those two sorted list produce one sorted list but only loop while  for only one time"
   ]
  },
  {
   "cell_type": "code",
   "execution_count": 55,
   "metadata": {},
   "outputs": [],
   "source": [
    "a=[10,20,40,60,70,80]\n",
    "b=[5,15,25,35,45,60]\n"
   ]
  },
  {
   "cell_type": "code",
   "execution_count": 68,
   "metadata": {},
   "outputs": [
    {
     "name": "stdout",
     "output_type": "stream",
     "text": [
      "[5, 10, 15, 20, 25, 35, 40, 45, 60, 60, 70, 80]\n"
     ]
    }
   ],
   "source": [
    "def mergeTwolists(a,b):\n",
    "  for x in range(len(b)):\n",
    "    a.append(b[x])\n",
    "  for i in range(1,len(a)):\n",
    "    for j in range (len(a)):\n",
    "      if(a[i]<a[j]):\n",
    "                temp=a[i]\n",
    "                a[i]=a[j]\n",
    "                a[j]=temp\n",
    "  print(a) \n",
    "     \n",
    "mergeTwolists(a,b)"
   ]
  },
  {
   "cell_type": "code",
   "execution_count": null,
   "metadata": {},
   "outputs": [],
   "source": []
  }
 ],
 "metadata": {
  "kernelspec": {
   "display_name": "Python 3",
   "language": "python",
   "name": "python3"
  },
  "language_info": {
   "codemirror_mode": {
    "name": "ipython",
    "version": 3
   },
   "file_extension": ".py",
   "mimetype": "text/x-python",
   "name": "python",
   "nbconvert_exporter": "python",
   "pygments_lexer": "ipython3",
   "version": "3.7.0"
  }
 },
 "nbformat": 4,
 "nbformat_minor": 2
}
